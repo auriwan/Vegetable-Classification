{
  "nbformat": 4,
  "nbformat_minor": 0,
  "metadata": {
    "colab": {
      "name": "Image Classification Model Deployment.ipynb",
      "provenance": [],
      "authorship_tag": "ABX9TyMKIMvBbJaN0Y7rbEtNIe9a",
      "include_colab_link": true
    },
    "kernelspec": {
      "name": "python3",
      "display_name": "Python 3"
    },
    "language_info": {
      "name": "python"
    }
  },
  "cells": [
    {
      "cell_type": "markdown",
      "metadata": {
        "id": "view-in-github",
        "colab_type": "text"
      },
      "source": [
        "<a href=\"https://colab.research.google.com/github/auriwan/Vegetable-Classification/blob/main/Image_Classification_Model_Deployment.ipynb\" target=\"_parent\"><img src=\"https://colab.research.google.com/assets/colab-badge.svg\" alt=\"Open In Colab\"/></a>"
      ]
    },
    {
      "cell_type": "markdown",
      "source": [
        "# Auriwan Yasper\n",
        "# auriwanyasper@gmail.com"
      ],
      "metadata": {
        "id": "MorRf-0CZn13"
      }
    },
    {
      "cell_type": "markdown",
      "source": [
        "# Klasifikasi sayuran"
      ],
      "metadata": {
        "id": "Z75gDnYsbmMj"
      }
    },
    {
      "cell_type": "code",
      "source": [
        "#import libraries\n",
        "import numpy as np\n",
        "import matplotlib.pyplot as plt\n",
        "import tensorflow as tf\n",
        "from tensorflow import keras\n",
        "from keras.layers import *\n",
        "from keras.models import *\n",
        "from keras.preprocessing import image\n",
        "from keras.preprocessing.image import ImageDataGenerator\n",
        "import os, shutil\n",
        "from google.colab import files"
      ],
      "metadata": {
        "id": "ZjJXKFMOZwaS"
      },
      "execution_count": null,
      "outputs": []
    },
    {
      "cell_type": "markdown",
      "source": [
        "# Persiapan Dataset"
      ],
      "metadata": {
        "id": "HC04YJc2kv0l"
      }
    }
  ]
}